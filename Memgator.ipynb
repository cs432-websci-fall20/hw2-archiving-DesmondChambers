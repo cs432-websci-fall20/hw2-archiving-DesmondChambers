{
 "cells": [
  {
   "cell_type": "code",
   "execution_count": 7,
   "metadata": {},
   "outputs": [],
   "source": [
    "import os\n",
    "import json\n",
    "\n",
    "def memgator (url, count):    \n",
    "    #with open(\"./timemaps/test%s.json\" %(str(count)), \"w\") as file:\n",
    "    command = \"./memgator-darwin-amd64 --format JSON %s > ./timemaps/test%s.json\" %(url, str(count))\n",
    "    os.system(command)\n",
    "    count += 1\n",
    "\n",
    "file1 = open('final_urls.txt', 'r') \n",
    "Lines = file1.read().splitlines()\n",
    "num = 1 \n",
    "\n",
    "if __name__ == '__main__':\n",
    "    for line in Lines:\n",
    "        memgator(line, num)\n",
    "        num += 1"
   ]
  },
  {
   "cell_type": "code",
   "execution_count": null,
   "metadata": {},
   "outputs": [],
   "source": []
  }
 ],
 "metadata": {
  "kernelspec": {
   "display_name": "Python 3",
   "language": "python",
   "name": "python3"
  },
  "language_info": {
   "codemirror_mode": {
    "name": "ipython",
    "version": 3
   },
   "file_extension": ".py",
   "mimetype": "text/x-python",
   "name": "python",
   "nbconvert_exporter": "python",
   "pygments_lexer": "ipython3",
   "version": "3.8.5"
  }
 },
 "nbformat": 4,
 "nbformat_minor": 4
}
